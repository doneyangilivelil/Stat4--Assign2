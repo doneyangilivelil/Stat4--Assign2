{
 "cells": [
  {
   "cell_type": "markdown",
   "metadata": {},
   "source": [
    "Using the following data, perform a oneway analysis of variance using α=.05. Write up\n",
    "the results in APA format.\n",
    "\n",
    "[Group1: 51, 45, 33, 45, 67]\n",
    "[Group2: 23, 43, 23, 43, 45]\n",
    "[Group3: 56, 76, 74, 87, 56]"
   ]
  },
  {
   "cell_type": "code",
   "execution_count": null,
   "metadata": {},
   "outputs": [],
   "source": [
    "Hypothesis\n",
    "H0: U1 = U2 = U3    (Means are equal)\n",
    "Ha: U1 =! U2 =! U3  (Means are significantly different from each other)\n",
    "    \n",
    "at Alpha=0.05\n",
    "\n",
    "SST=SSB+SSW\n",
    "\n",
    "degrees of freedom:\n",
    "(Total)dfT=n-1=15-1=14\n",
    "(Within groups)dfW=n-k= 15-3=12\n",
    "(Between groups)dfB=k-1=3-1=2\n",
    "\n",
    "MSB=SSB/dfB=3022/2=1511.5\n",
    "MSW=SSW/dfW=1860/12=155\n",
    "\n",
    "Fstat=MSB/MSW=9.74\n",
    "Fcritical for df=12 and alpha=0.05=3.9\n",
    "\n",
    "Fcrit<Fstat and hence it is in critical region.\n",
    "So we fail to accept H0 "
   ]
  }
 ],
 "metadata": {
  "kernelspec": {
   "display_name": "Python 3",
   "language": "python",
   "name": "python3"
  },
  "language_info": {
   "codemirror_mode": {
    "name": "ipython",
    "version": 3
   },
   "file_extension": ".py",
   "mimetype": "text/x-python",
   "name": "python",
   "nbconvert_exporter": "python",
   "pygments_lexer": "ipython3",
   "version": "3.6.4"
  }
 },
 "nbformat": 4,
 "nbformat_minor": 2
}
